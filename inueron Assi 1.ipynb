{
 "cells": [
  {
   "cell_type": "code",
   "execution_count": null,
   "id": "0d7f03d0",
   "metadata": {},
   "outputs": [],
   "source": [
    "## Assignment Part-1\n",
    "Q1. Why do we call Python as a general purpose and high-level programming language?\n",
    "\n",
    "Q2. Why is Python called a dynamically typed language?\n",
    "\n",
    "Q3. List some pros and cons of Python programming language?\n",
    "\n",
    "Q4. In what all domains can we use Python?\n",
    "\n",
    "Q5. What are variable and how can we declare them?\n",
    "\n",
    "Q6. How can we take an input from the user in Python?\n",
    "\n",
    "Q7. What is the default datatype of the value that has been taken as an input using input() function?\n",
    "\n",
    "Q8. What is type casting?\n",
    "\n",
    "Q9. Can we take more than one input from the user using single input() function? If yes, how? If no, why?\n",
    "\n",
    "Q10. What are keywords?\n",
    "\n",
    "Q11. Can we use keywords as a variable? Support your answer with reason.\n",
    "\n",
    "Q12. What is indentation? What's the use of indentaion in Python?\n",
    "\n",
    "Q13. How can we throw some output in Python?\n",
    "\n",
    "Q14. What are operators in Python?\n",
    "\n",
    "Q15. What is difference between / and // operators?\n",
    "\n",
    "Q16. Write a code that gives following as an output.\n",
    "```\n",
    "iNeuroniNeuroniNeuroniNeuron\n",
    "```\n",
    "\n",
    "Q17. Write a code to take a number as an input from the user and check if the number is odd or even.\n",
    "\n",
    "Q18. What are boolean operator?\n",
    "\n",
    "Q19. What will the output of the following?\n",
    "```\n",
    "1 or 0\n",
    "\n",
    "0 and 0\n",
    "\n",
    "True and False and True\n",
    "\n",
    "1 or 0 or 0\n",
    "```\n",
    "\n",
    "Q20. What are conditional statements in Python?\n",
    "\n",
    "Q21. What is use of 'if', 'elif' and 'else' keywords?\n",
    "\n",
    "Q22. Write a code to take the age of person as an input and if age >= 18 display \"I can vote\". If age is < 18 display \"I can't vote\".\n",
    "\n",
    "Q23. Write a code that displays the sum of all the even numbers from the given list.\n",
    "```\n",
    "numbers = [12, 75, 150, 180, 145, 525, 50]\n",
    "```\n",
    "\n",
    "\n",
    "Q24. Write a code to take 3 numbers as an input from the user and display the greatest no as output.\n",
    "\n",
    "Q25. Write a program to display only those numbers from a list that satisfy the following conditions\n",
    "\n",
    "- The number must be divisible by five\n",
    "\n",
    "- If the number is greater than 150, then skip it and move to the next number\n",
    "\n",
    "- If the number is greater than 500, then stop the loop\n",
    "```\n",
    "numbers = [12, 75, 150, 180, 145, 525, 50]\n",
    "```"
   ]
  },
  {
   "cell_type": "markdown",
   "id": "054a8714",
   "metadata": {},
   "source": [
    "Q1. Why do we call Python as a general purpose and high-level programming language?\n",
    "\n",
    "It is manifest that Python is a robust, high-level programming language with easy-to-read code lines. Its extensive support and power have made Python a superior programming language across the globe. It has gained importance across the globe as computer giant Google has made it one of its official programming languages."
   ]
  },
  {
   "cell_type": "markdown",
   "id": "07b9fa71",
   "metadata": {},
   "source": [
    "Q2. Why is Python called a dynamically typed language?\n",
    "\n",
    "It doesn’t know about the type of the variable until the code is run. So declaration is of no use. What it does is, It stores that value at some memory location and then binds that variable name to that memory container. And makes the contents of the container accessible through that variable name. So the data type does not matter. As it will get to know the type of the value at run-time.\n",
    "\n"
   ]
  },
  {
   "cell_type": "markdown",
   "id": "8688d9db",
   "metadata": {},
   "source": [
    "Q3. List some pros and cons of Python programming language?\n",
    "\n",
    "\n",
    "Pros:  \n",
    "    \n",
    "Beginner-friendly, Large Community, Flexible and Extensible, Extensive Libraries,Embeddable., Highly Scalable\n",
    "\n",
    "Cons:\n",
    "\n",
    "Issues with design, Slower than compiled languages, Security, Work Environment, High memory consumption.,, Dynamically-typed language, Complex multithreading."
   ]
  },
  {
   "cell_type": "markdown",
   "id": "93d9aa27",
   "metadata": {},
   "source": [
    "Q4. In what all domains can we use Python?\n",
    "\n",
    "Python is the go-to programming language for domains such as artificial intelligence, machine learning and deep learning, it's no surprise that it's also a fundamental tool for any data scientist."
   ]
  },
  {
   "cell_type": "markdown",
   "id": "6d04882c",
   "metadata": {},
   "source": [
    "Q5. What are variable and how can we declare them?\n",
    "\n",
    "variables :\n",
    "\n",
    "We do not need to declare variables before using them or declare their type. A variable is created the moment we first assign a value to it. \n",
    "A Python variable is a name given to a memory location. It is the basic unit of storage in a program.\n",
    "\n",
    "\n",
    "variables declare:\n",
    "\n",
    "x=2    # x referances an intger\n",
    "\n",
    "x=two   # x referances an string\n"
   ]
  },
  {
   "cell_type": "markdown",
   "id": "5ce2643d",
   "metadata": {},
   "source": [
    "Q6. How can we take an input from the user in Python?\n",
    "\n",
    "inp = input('STATEMENT')\n",
    "\n",
    "\n",
    "two inbuilt functions to read the input from the keyboard. \n",
    " \n",
    "\n",
    "input ( prompt )\n",
    "raw_input ( prompt )\n",
    "\n",
    "The type of the returned object always will be <type ‘str’>. It does not evaluate the expression it just returns the complete statement as String.\n"
   ]
  },
  {
   "cell_type": "code",
   "execution_count": 2,
   "id": "179ae1a9",
   "metadata": {},
   "outputs": [
    {
     "name": "stdout",
     "output_type": "stream",
     "text": [
      "Please Enter Your Name: amol\n",
      "Please Enter Your Age: 23\n",
      "Name :  <class 'str'>\n",
      "Age:  <class 'str'>\n"
     ]
    }
   ],
   "source": [
    "#Q7. What is the default datatype of the value that has been taken as an input using input() function?\n",
    "\n",
    "\n",
    "name = input(\"Please Enter Your Name: \")\n",
    "\n",
    "\n",
    "age = input(\"Please Enter Your Age: \")\n",
    "\n",
    "print(\"Name : \", type(name))\n",
    "print(\"Age: \", type(age))"
   ]
  },
  {
   "cell_type": "code",
   "execution_count": 3,
   "id": "3b7f9fb8",
   "metadata": {},
   "outputs": [
    {
     "name": "stdout",
     "output_type": "stream",
     "text": [
      "Value: 124.23\n",
      "Data Type: <class 'float'>\n"
     ]
    }
   ],
   "source": [
    "#Q8. What is type casting?\n",
    "\n",
    "#users convert the data type of an object to required data type.\n",
    "\n",
    "#We use the built-in functions like int(), float(), str(), etc to perform explicit type conversion.\n",
    "\n",
    "#Implicit Type Casting – conversion of data types is done automatically by Python. \n",
    "#Explicit Type Casting – conversion of data types is done by the user\n",
    "\n",
    "integer_number = 123\n",
    "float_number = 1.23\n",
    "\n",
    "new_number = integer_number + float_number\n",
    "\n",
    "\n",
    "print(\"Value:\",new_number)\n",
    "print(\"Data Type:\",type(new_number))"
   ]
  },
  {
   "cell_type": "code",
   "execution_count": 11,
   "id": "3f627972",
   "metadata": {},
   "outputs": [
    {
     "name": "stdout",
     "output_type": "stream",
     "text": [
      "Enter two values: 4 8\n",
      "Number of boys:  4\n",
      "Number of girls:  8\n"
     ]
    }
   ],
   "source": [
    "#Q9. Can we take more than one input from the user using single input() function? If yes, how? If no, why?\n",
    "\n",
    "x, y = input(\"Enter two values: \").split( )\n",
    "print(\"Number of boys: \", x)\n",
    "print(\"Number of girls: \", y)\n"
   ]
  },
  {
   "cell_type": "markdown",
   "id": "f1849d00",
   "metadata": {},
   "source": [
    "#Q10. What are keywords?\n",
    "\n",
    "\n",
    "True\tclass\tfinally\tis\treturn  False\tawait\telse\timport\tpass  None\tbreak\texcept\tin raise and\tcontinue for\tlambda\ttry\n",
    "as\tdef\tfrom\tnonlocal\twhile\n"
   ]
  },
  {
   "cell_type": "markdown",
   "id": "647c095f",
   "metadata": {},
   "source": [
    "Q11. Can we use keywords as a variable? Support your answer with reason.\n",
    "\n",
    "no , we can not use kewords as variable\n",
    "because it already reserved for keywords it will conflict"
   ]
  },
  {
   "cell_type": "markdown",
   "id": "c6729bcb",
   "metadata": {},
   "source": [
    "Q12. What is indentation? What's the use of indentaion in Python?\n",
    "\n",
    "\n",
    "Indentation refers to the spaces at the beginning of a code line.\n",
    "the indentation in Python is very important. Python uses indentation to indicate a block of code."
   ]
  },
  {
   "cell_type": "markdown",
   "id": "89b30969",
   "metadata": {},
   "source": [
    "Q13. How can we throw some output in Python?\n",
    "\n",
    "python to throw a custom exception for error handling. You can do this by checking a condition and raising the exception, if the condition is True. The raised exception typically warns the user or the calling application.\n",
    "\n",
    "use the “raise” keyword to throw a Python exception manually. You can also add a message to describe the exception"
   ]
  },
  {
   "cell_type": "markdown",
   "id": "4c272cc0",
   "metadata": {},
   "source": [
    "Q14. What are operators in Python?\n",
    "\n",
    "\n",
    "\n",
    "Arithmetic operators : Arithmetic operators are used to perform mathematical operations like addition, subtraction, multiplication\n",
    "Assignment Operators : Assignment operators are used to assign values to variables.\n",
    "Comparison Operators : Comparison operators compare two values/variables and return a boolean result: True or False.\n",
    "Logical Operators : Logical operators are used to check whether an expression is True or False. They are used in decision-making.\n",
    "Bitwise Operators : Bitwise operators act on operands as if they were strings of binary digits. They operate bit by bit, hence the name.\n",
    "Special Operators : Python language offers some special types of operators like the identity operator and the membership operator.\n",
    "\n"
   ]
  },
  {
   "cell_type": "code",
   "execution_count": 15,
   "id": "0908c6ca",
   "metadata": {},
   "outputs": [
    {
     "name": "stdout",
     "output_type": "stream",
     "text": [
      "5.0\n",
      "5\n",
      "4\n",
      "4.75\n"
     ]
    }
   ],
   "source": [
    "#Q15. What is difference between / and // operators?\n",
    "\n",
    "#'/' is the division operator.\n",
    "\n",
    "#'//' is the floor division operator.\n",
    "\n",
    "x = 15\n",
    "\n",
    "y = 3\n",
    "\n",
    "print(x / y)   #This prints output as 5\n",
    "\n",
    "print(x // y)  #This prints output as 5\n",
    "\n",
    "a = 19\n",
    "\n",
    "b = 4\n",
    "\n",
    "print(a // b)  #This prints output as 4\n",
    "\n",
    "print(a / b)  #This prints output as 4.75"
   ]
  },
  {
   "cell_type": "code",
   "execution_count": 49,
   "id": "677b191a",
   "metadata": {},
   "outputs": [
    {
     "name": "stdout",
     "output_type": "stream",
     "text": [
      "iNeuroniNeuroniNeuroniNeuron"
     ]
    }
   ],
   "source": [
    "#Q16. Write a code that gives following as an output.\n",
    "\n",
    "#```\n",
    "#iNeuroniNeuroniNeuroniNeuron\n",
    "#```\n",
    "\n",
    "n = 4\n",
    "s4=\"iNeuron\"\n",
    "for i in range(0, n):\n",
    "    print(s4,end=\"\")\n",
    "\n"
   ]
  },
  {
   "cell_type": "code",
   "execution_count": null,
   "id": "0de0c918",
   "metadata": {},
   "outputs": [],
   "source": [
    "Q17. Write a code to take a number as an input from the user and check if the number is odd or even."
   ]
  },
  {
   "cell_type": "code",
   "execution_count": 3,
   "id": "b359c73f",
   "metadata": {},
   "outputs": [
    {
     "name": "stdout",
     "output_type": "stream",
     "text": [
      "enter the number:5\n",
      "5 is odd\n"
     ]
    }
   ],
   "source": [
    "a=int(input(\"enter the number:\"))\n",
    "\n",
    "if (a%2) == 0:\n",
    "      print(a , \"is even\")\n",
    "else:\n",
    "    print(a , \"is odd\")\n",
    "    \n"
   ]
  },
  {
   "cell_type": "markdown",
   "id": "544e2871",
   "metadata": {},
   "source": [
    "#Q18. What are boolean operator?\n",
    "\n",
    "The and operation − The basic syntax of and operation is: x and y. It indicates that when the x is false, then return x, otherwise returns y.\n",
    "\n",
    "The or operation −The basic syntax of or operation is: x or y. It indicates that when the x is false, then return y, otherwise returns x.\n",
    "\n",
    "The not operation − The basic syntax of and operation is: not x. It indicates that when the x is false, then it returns true, otherwise it returns false.\n"
   ]
  },
  {
   "cell_type": "code",
   "execution_count": 4,
   "id": "418fe3fc",
   "metadata": {},
   "outputs": [
    {
     "name": "stdout",
     "output_type": "stream",
     "text": [
      "1\n",
      "0\n",
      "1\n",
      "0\n"
     ]
    }
   ],
   "source": [
    "#Q19. What will the output of the following?\n",
    "#```\n",
    "#1 or 0\n",
    "\n",
    "#0 and 0\n",
    "\n",
    "#True and False and True\n",
    "\n",
    "#1 or 0 or 0\n",
    "#```\n",
    "\n",
    "\n",
    "\n",
    "or_op = 1 or 0\n",
    "print(or_op)\n",
    "\n",
    "and_op = 0 and 0\n",
    "print(and_op)\n",
    "\n",
    "or_op1 = True and False and True\n",
    "print(or_op)\n",
    "\n",
    "and_op2 = 1 or 0 or 0\n",
    "print(and_op)"
   ]
  },
  {
   "cell_type": "code",
   "execution_count": 8,
   "id": "cd3220cf",
   "metadata": {},
   "outputs": [],
   "source": [
    "# #Q20. What are conditional statements in Python?\n",
    "\n",
    "# #Type of condition statement in Python:\n",
    "# #If statement.\n",
    "\n",
    "# Type of condition statement in Python:\n",
    "# If statement.\n",
    "# If Else statement.\n",
    "# Elif statement.\n",
    "# Nested if statement.\n",
    "# Nested if else statement.\n",
    "\n",
    "    \n",
    "# #Nested if statement.\n",
    "\n",
    "# if(condition):  \n",
    "# {  \n",
    "#      if(condition):  \n",
    "#      {  \n",
    "#         # if statement  \n",
    "#      }  \n",
    "# }\n",
    "\n",
    "# #Nested if else statement.\n",
    "\n",
    "\n",
    "# if(condition):  \n",
    "# {  \n",
    "#      if(condition):  \n",
    "#      {  \n",
    "#        #if statement  \n",
    "#      }  \n",
    "#      else:  \n",
    "#      {  \n",
    "#         #else statement  \n",
    "#      }  \n",
    "# }  \n",
    "# else:  \n",
    "# {  \n",
    "#  #else statement  \n",
    "# }\n"
   ]
  },
  {
   "cell_type": "code",
   "execution_count": null,
   "id": "4c069cb4",
   "metadata": {},
   "outputs": [],
   "source": [
    "#Q21. What is use of 'if', 'elif' and 'else' keywords?\n",
    "\n",
    "# if(condition):    \n",
    "# {    \n",
    "# #if statement  \n",
    "# } \n",
    "\n",
    "# #If Else statement.\n",
    "\n",
    "# if(condition):    \n",
    "# {    \n",
    "#    # if statement  \n",
    "# }    \n",
    "# else:    \n",
    "# {    \n",
    "#    # else statement  \n",
    "# }\n",
    "\n",
    "\n",
    "# #Elif statement.\n",
    "\n",
    "# if(condition):  \n",
    "# {  \n",
    "#    # if statement  \n",
    "# }  \n",
    "# elif(condition):  \n",
    "# {  \n",
    "#    # elif statement  \n",
    "# }  \n",
    "# else:  \n",
    "# {  \n",
    "#    # else statement  \n",
    "# } "
   ]
  },
  {
   "cell_type": "code",
   "execution_count": 11,
   "id": "8a772f65",
   "metadata": {
    "scrolled": true
   },
   "outputs": [
    {
     "name": "stdout",
     "output_type": "stream",
     "text": [
      "enter the age:45\n",
      "I can vote\n"
     ]
    }
   ],
   "source": [
    "#Q22. Write a code to take the age of person as an input and if age >= 18 display \"I can vote\". If age is < 18 display \"I can't vote\".\n",
    "\n",
    "age = int(input(\"enter the age:\"))\n",
    "\n",
    "if(age >= 18):    \n",
    "    {    \n",
    "       print(\"I can vote\") \n",
    "    }    \n",
    "else:    \n",
    "    {    \n",
    "       print(\"I can't vote\") \n",
    "    }"
   ]
  },
  {
   "cell_type": "code",
   "execution_count": 15,
   "id": "e89b0342",
   "metadata": {},
   "outputs": [
    {
     "name": "stdout",
     "output_type": "stream",
     "text": [
      "392\n"
     ]
    }
   ],
   "source": [
    "# Q23. Write a code that displays the sum of all the even numbers from the given list.\n",
    "# ```\n",
    "# numbers = [12, 75, 150, 180, 145, 525, 50]\n",
    "# ```\n",
    "num = [12, 75, 150, 180, 145, 525, 50]\n",
    "s=0\n",
    "for i in num:\n",
    "\n",
    "    if (i%2) == 0:\n",
    "        s+=i\n",
    "print(s)\n",
    "\n"
   ]
  },
  {
   "cell_type": "code",
   "execution_count": 18,
   "id": "6eed7492",
   "metadata": {},
   "outputs": [
    {
     "name": "stdout",
     "output_type": "stream",
     "text": [
      "enter the number1: 2\n",
      "enter the number2: 8\n",
      "enter the number3: 5\n",
      "The largest number is 8\n"
     ]
    }
   ],
   "source": [
    "# Q24. Write a code to take 3 numbers as an input from the user and display the greatest no as output.\n",
    "\n",
    "a = int(input(\"enter the number1: \"))\n",
    "b = int(input(\"enter the number2: \"))\n",
    "c = int(input(\"enter the number3: \"))\n",
    "\n",
    "if (a >= b) and (a >= c):\n",
    "   largest = a\n",
    "elif (b >= a) and (b >= c):\n",
    "   largest = b\n",
    "else:\n",
    "   largest = c\n",
    "\n",
    "print(\"The largest number is\", largest)\n",
    "\n"
   ]
  },
  {
   "cell_type": "code",
   "execution_count": 35,
   "id": "00e2d94e",
   "metadata": {},
   "outputs": [
    {
     "name": "stdout",
     "output_type": "stream",
     "text": [
      "180\n"
     ]
    }
   ],
   "source": [
    "# Q25. Write a program to display only those numbers from a list that satisfy the following conditions\n",
    "\n",
    "# - The number must be divisible by five\n",
    "\n",
    "# - If the number is greater than 150, then skip it and move to the next number\n",
    "\n",
    "# - If the number is greater than 500, then stop the loop\n",
    "# ```\n",
    "# numbers = [12, 75, 150, 180, 145, 525, 50]\n",
    "# ```\n",
    "nn= [12, 75, 150, 180, 145, 525, 50]\n",
    "nl=[]\n",
    "for x in nn:\n",
    "    if (x%5==0):\n",
    "        \n",
    "        nl.append(str(x))\n",
    "\n",
    "    \n",
    "for j in nl:    \n",
    "    if int(j) > 150 and int(j)< 500:\n",
    "        #print (','.join(j))\n",
    "        print (''.join(j))\n",
    "\n"
   ]
  }
 ],
 "metadata": {
  "kernelspec": {
   "display_name": "Python 3 (ipykernel)",
   "language": "python",
   "name": "python3"
  },
  "language_info": {
   "codemirror_mode": {
    "name": "ipython",
    "version": 3
   },
   "file_extension": ".py",
   "mimetype": "text/x-python",
   "name": "python",
   "nbconvert_exporter": "python",
   "pygments_lexer": "ipython3",
   "version": "3.9.7"
  }
 },
 "nbformat": 4,
 "nbformat_minor": 5
}
